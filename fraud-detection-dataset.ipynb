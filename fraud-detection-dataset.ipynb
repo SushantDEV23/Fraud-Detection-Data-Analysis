{
 "cells": [
  {
   "cell_type": "code",
   "execution_count": 1,
   "id": "458edff7",
   "metadata": {
    "_cell_guid": "b1076dfc-b9ad-4769-8c92-a6c4dae69d19",
    "_uuid": "8f2839f25d086af736a60e9eeb907d3b93b6e0e5",
    "execution": {
     "iopub.execute_input": "2024-03-31T14:17:12.235251Z",
     "iopub.status.busy": "2024-03-31T14:17:12.234218Z",
     "iopub.status.idle": "2024-03-31T14:17:13.234828Z",
     "shell.execute_reply": "2024-03-31T14:17:13.233582Z"
    },
    "papermill": {
     "duration": 1.01298,
     "end_time": "2024-03-31T14:17:13.237664",
     "exception": false,
     "start_time": "2024-03-31T14:17:12.224684",
     "status": "completed"
    },
    "tags": []
   },
   "outputs": [
    {
     "name": "stdout",
     "output_type": "stream",
     "text": [
      "/kaggle/input/financial-fraud-detection-dataset/Synthetic_Financial_datasets_log.csv\n"
     ]
    }
   ],
   "source": [
    "# This Python 3 environment comes with many helpful analytics libraries installed\n",
    "# It is defined by the kaggle/python Docker image: https://github.com/kaggle/docker-python\n",
    "# For example, here's several helpful packages to load\n",
    "\n",
    "import numpy as np # linear algebra\n",
    "import pandas as pd # data processing, CSV file I/O (e.g. pd.read_csv)\n",
    "\n",
    "# Input data files are available in the read-only \"../input/\" directory\n",
    "# For example, running this (by clicking run or pressing Shift+Enter) will list all files under the input directory\n",
    "\n",
    "import os\n",
    "for dirname, _, filenames in os.walk('/kaggle/input'):\n",
    "    for filename in filenames:\n",
    "        print(os.path.join(dirname, filename))\n",
    "\n",
    "# You can write up to 20GB to the current directory (/kaggle/working/) that gets preserved as output when you create a version using \"Save & Run All\" \n",
    "# You can also write temporary files to /kaggle/temp/, but they won't be saved outside of the current session"
   ]
  },
  {
   "cell_type": "code",
   "execution_count": 2,
   "id": "cc563cb7",
   "metadata": {
    "execution": {
     "iopub.execute_input": "2024-03-31T14:17:13.253697Z",
     "iopub.status.busy": "2024-03-31T14:17:13.253164Z",
     "iopub.status.idle": "2024-03-31T14:17:14.909803Z",
     "shell.execute_reply": "2024-03-31T14:17:14.908406Z"
    },
    "papermill": {
     "duration": 1.66766,
     "end_time": "2024-03-31T14:17:14.912496",
     "exception": false,
     "start_time": "2024-03-31T14:17:13.244836",
     "status": "completed"
    },
    "tags": []
   },
   "outputs": [],
   "source": [
    "#Import necessary modules\n",
    "\n",
    "import numpy as np\n",
    "import pandas as pd\n",
    "import matplotlib.pyplot as plt\n",
    "import seaborn as sns"
   ]
  },
  {
   "cell_type": "code",
   "execution_count": 3,
   "id": "bb5a82d8",
   "metadata": {
    "execution": {
     "iopub.execute_input": "2024-03-31T14:17:14.928532Z",
     "iopub.status.busy": "2024-03-31T14:17:14.928081Z",
     "iopub.status.idle": "2024-03-31T14:17:39.398102Z",
     "shell.execute_reply": "2024-03-31T14:17:39.396222Z"
    },
    "papermill": {
     "duration": 24.481328,
     "end_time": "2024-03-31T14:17:39.400984",
     "exception": false,
     "start_time": "2024-03-31T14:17:14.919656",
     "status": "completed"
    },
    "tags": []
   },
   "outputs": [],
   "source": [
    "df = pd.read_csv('/kaggle/input/financial-fraud-detection-dataset/Synthetic_Financial_datasets_log.csv')"
   ]
  },
  {
   "cell_type": "code",
   "execution_count": 4,
   "id": "85475984",
   "metadata": {
    "execution": {
     "iopub.execute_input": "2024-03-31T14:17:39.417214Z",
     "iopub.status.busy": "2024-03-31T14:17:39.416776Z",
     "iopub.status.idle": "2024-03-31T14:17:39.444335Z",
     "shell.execute_reply": "2024-03-31T14:17:39.443166Z"
    },
    "papermill": {
     "duration": 0.038646,
     "end_time": "2024-03-31T14:17:39.446641",
     "exception": false,
     "start_time": "2024-03-31T14:17:39.407995",
     "status": "completed"
    },
    "tags": []
   },
   "outputs": [
    {
     "data": {
      "text/html": [
       "<div>\n",
       "<style scoped>\n",
       "    .dataframe tbody tr th:only-of-type {\n",
       "        vertical-align: middle;\n",
       "    }\n",
       "\n",
       "    .dataframe tbody tr th {\n",
       "        vertical-align: top;\n",
       "    }\n",
       "\n",
       "    .dataframe thead th {\n",
       "        text-align: right;\n",
       "    }\n",
       "</style>\n",
       "<table border=\"1\" class=\"dataframe\">\n",
       "  <thead>\n",
       "    <tr style=\"text-align: right;\">\n",
       "      <th></th>\n",
       "      <th>step</th>\n",
       "      <th>type</th>\n",
       "      <th>amount</th>\n",
       "      <th>nameOrig</th>\n",
       "      <th>oldbalanceOrg</th>\n",
       "      <th>newbalanceOrig</th>\n",
       "      <th>nameDest</th>\n",
       "      <th>oldbalanceDest</th>\n",
       "      <th>newbalanceDest</th>\n",
       "      <th>isFraud</th>\n",
       "      <th>isFlaggedFraud</th>\n",
       "    </tr>\n",
       "  </thead>\n",
       "  <tbody>\n",
       "    <tr>\n",
       "      <th>0</th>\n",
       "      <td>1</td>\n",
       "      <td>PAYMENT</td>\n",
       "      <td>9839.64</td>\n",
       "      <td>C1231006815</td>\n",
       "      <td>170136.0</td>\n",
       "      <td>160296.36</td>\n",
       "      <td>M1979787155</td>\n",
       "      <td>0.0</td>\n",
       "      <td>0.0</td>\n",
       "      <td>0</td>\n",
       "      <td>0</td>\n",
       "    </tr>\n",
       "    <tr>\n",
       "      <th>1</th>\n",
       "      <td>1</td>\n",
       "      <td>PAYMENT</td>\n",
       "      <td>1864.28</td>\n",
       "      <td>C1666544295</td>\n",
       "      <td>21249.0</td>\n",
       "      <td>19384.72</td>\n",
       "      <td>M2044282225</td>\n",
       "      <td>0.0</td>\n",
       "      <td>0.0</td>\n",
       "      <td>0</td>\n",
       "      <td>0</td>\n",
       "    </tr>\n",
       "    <tr>\n",
       "      <th>2</th>\n",
       "      <td>1</td>\n",
       "      <td>TRANSFER</td>\n",
       "      <td>181.00</td>\n",
       "      <td>C1305486145</td>\n",
       "      <td>181.0</td>\n",
       "      <td>0.00</td>\n",
       "      <td>C553264065</td>\n",
       "      <td>0.0</td>\n",
       "      <td>0.0</td>\n",
       "      <td>1</td>\n",
       "      <td>0</td>\n",
       "    </tr>\n",
       "    <tr>\n",
       "      <th>3</th>\n",
       "      <td>1</td>\n",
       "      <td>CASH_OUT</td>\n",
       "      <td>181.00</td>\n",
       "      <td>C840083671</td>\n",
       "      <td>181.0</td>\n",
       "      <td>0.00</td>\n",
       "      <td>C38997010</td>\n",
       "      <td>21182.0</td>\n",
       "      <td>0.0</td>\n",
       "      <td>1</td>\n",
       "      <td>0</td>\n",
       "    </tr>\n",
       "    <tr>\n",
       "      <th>4</th>\n",
       "      <td>1</td>\n",
       "      <td>PAYMENT</td>\n",
       "      <td>11668.14</td>\n",
       "      <td>C2048537720</td>\n",
       "      <td>41554.0</td>\n",
       "      <td>29885.86</td>\n",
       "      <td>M1230701703</td>\n",
       "      <td>0.0</td>\n",
       "      <td>0.0</td>\n",
       "      <td>0</td>\n",
       "      <td>0</td>\n",
       "    </tr>\n",
       "  </tbody>\n",
       "</table>\n",
       "</div>"
      ],
      "text/plain": [
       "   step      type    amount     nameOrig  oldbalanceOrg  newbalanceOrig  \\\n",
       "0     1   PAYMENT   9839.64  C1231006815       170136.0       160296.36   \n",
       "1     1   PAYMENT   1864.28  C1666544295        21249.0        19384.72   \n",
       "2     1  TRANSFER    181.00  C1305486145          181.0            0.00   \n",
       "3     1  CASH_OUT    181.00   C840083671          181.0            0.00   \n",
       "4     1   PAYMENT  11668.14  C2048537720        41554.0        29885.86   \n",
       "\n",
       "      nameDest  oldbalanceDest  newbalanceDest  isFraud  isFlaggedFraud  \n",
       "0  M1979787155             0.0             0.0        0               0  \n",
       "1  M2044282225             0.0             0.0        0               0  \n",
       "2   C553264065             0.0             0.0        1               0  \n",
       "3    C38997010         21182.0             0.0        1               0  \n",
       "4  M1230701703             0.0             0.0        0               0  "
      ]
     },
     "execution_count": 4,
     "metadata": {},
     "output_type": "execute_result"
    }
   ],
   "source": [
    "#Overview of the dataset\n",
    "df.head()"
   ]
  },
  {
   "cell_type": "code",
   "execution_count": 5,
   "id": "87eaf822",
   "metadata": {
    "execution": {
     "iopub.execute_input": "2024-03-31T14:17:39.463114Z",
     "iopub.status.busy": "2024-03-31T14:17:39.462469Z",
     "iopub.status.idle": "2024-03-31T14:17:41.474676Z",
     "shell.execute_reply": "2024-03-31T14:17:41.473722Z"
    },
    "papermill": {
     "duration": 2.023211,
     "end_time": "2024-03-31T14:17:41.476956",
     "exception": false,
     "start_time": "2024-03-31T14:17:39.453745",
     "status": "completed"
    },
    "tags": []
   },
   "outputs": [
    {
     "data": {
      "text/html": [
       "<div>\n",
       "<style scoped>\n",
       "    .dataframe tbody tr th:only-of-type {\n",
       "        vertical-align: middle;\n",
       "    }\n",
       "\n",
       "    .dataframe tbody tr th {\n",
       "        vertical-align: top;\n",
       "    }\n",
       "\n",
       "    .dataframe thead th {\n",
       "        text-align: right;\n",
       "    }\n",
       "</style>\n",
       "<table border=\"1\" class=\"dataframe\">\n",
       "  <thead>\n",
       "    <tr style=\"text-align: right;\">\n",
       "      <th></th>\n",
       "      <th>step</th>\n",
       "      <th>amount</th>\n",
       "      <th>oldbalanceOrg</th>\n",
       "      <th>newbalanceOrig</th>\n",
       "      <th>oldbalanceDest</th>\n",
       "      <th>newbalanceDest</th>\n",
       "      <th>isFraud</th>\n",
       "      <th>isFlaggedFraud</th>\n",
       "    </tr>\n",
       "  </thead>\n",
       "  <tbody>\n",
       "    <tr>\n",
       "      <th>count</th>\n",
       "      <td>6.362620e+06</td>\n",
       "      <td>6.362620e+06</td>\n",
       "      <td>6.362620e+06</td>\n",
       "      <td>6.362620e+06</td>\n",
       "      <td>6.362620e+06</td>\n",
       "      <td>6.362620e+06</td>\n",
       "      <td>6.362620e+06</td>\n",
       "      <td>6.362620e+06</td>\n",
       "    </tr>\n",
       "    <tr>\n",
       "      <th>mean</th>\n",
       "      <td>2.433972e+02</td>\n",
       "      <td>1.798619e+05</td>\n",
       "      <td>8.338831e+05</td>\n",
       "      <td>8.551137e+05</td>\n",
       "      <td>1.100702e+06</td>\n",
       "      <td>1.224996e+06</td>\n",
       "      <td>1.290820e-03</td>\n",
       "      <td>2.514687e-06</td>\n",
       "    </tr>\n",
       "    <tr>\n",
       "      <th>std</th>\n",
       "      <td>1.423320e+02</td>\n",
       "      <td>6.038582e+05</td>\n",
       "      <td>2.888243e+06</td>\n",
       "      <td>2.924049e+06</td>\n",
       "      <td>3.399180e+06</td>\n",
       "      <td>3.674129e+06</td>\n",
       "      <td>3.590480e-02</td>\n",
       "      <td>1.585775e-03</td>\n",
       "    </tr>\n",
       "    <tr>\n",
       "      <th>min</th>\n",
       "      <td>1.000000e+00</td>\n",
       "      <td>0.000000e+00</td>\n",
       "      <td>0.000000e+00</td>\n",
       "      <td>0.000000e+00</td>\n",
       "      <td>0.000000e+00</td>\n",
       "      <td>0.000000e+00</td>\n",
       "      <td>0.000000e+00</td>\n",
       "      <td>0.000000e+00</td>\n",
       "    </tr>\n",
       "    <tr>\n",
       "      <th>25%</th>\n",
       "      <td>1.560000e+02</td>\n",
       "      <td>1.338957e+04</td>\n",
       "      <td>0.000000e+00</td>\n",
       "      <td>0.000000e+00</td>\n",
       "      <td>0.000000e+00</td>\n",
       "      <td>0.000000e+00</td>\n",
       "      <td>0.000000e+00</td>\n",
       "      <td>0.000000e+00</td>\n",
       "    </tr>\n",
       "    <tr>\n",
       "      <th>50%</th>\n",
       "      <td>2.390000e+02</td>\n",
       "      <td>7.487194e+04</td>\n",
       "      <td>1.420800e+04</td>\n",
       "      <td>0.000000e+00</td>\n",
       "      <td>1.327057e+05</td>\n",
       "      <td>2.146614e+05</td>\n",
       "      <td>0.000000e+00</td>\n",
       "      <td>0.000000e+00</td>\n",
       "    </tr>\n",
       "    <tr>\n",
       "      <th>75%</th>\n",
       "      <td>3.350000e+02</td>\n",
       "      <td>2.087215e+05</td>\n",
       "      <td>1.073152e+05</td>\n",
       "      <td>1.442584e+05</td>\n",
       "      <td>9.430367e+05</td>\n",
       "      <td>1.111909e+06</td>\n",
       "      <td>0.000000e+00</td>\n",
       "      <td>0.000000e+00</td>\n",
       "    </tr>\n",
       "    <tr>\n",
       "      <th>max</th>\n",
       "      <td>7.430000e+02</td>\n",
       "      <td>9.244552e+07</td>\n",
       "      <td>5.958504e+07</td>\n",
       "      <td>4.958504e+07</td>\n",
       "      <td>3.560159e+08</td>\n",
       "      <td>3.561793e+08</td>\n",
       "      <td>1.000000e+00</td>\n",
       "      <td>1.000000e+00</td>\n",
       "    </tr>\n",
       "  </tbody>\n",
       "</table>\n",
       "</div>"
      ],
      "text/plain": [
       "               step        amount  oldbalanceOrg  newbalanceOrig  \\\n",
       "count  6.362620e+06  6.362620e+06   6.362620e+06    6.362620e+06   \n",
       "mean   2.433972e+02  1.798619e+05   8.338831e+05    8.551137e+05   \n",
       "std    1.423320e+02  6.038582e+05   2.888243e+06    2.924049e+06   \n",
       "min    1.000000e+00  0.000000e+00   0.000000e+00    0.000000e+00   \n",
       "25%    1.560000e+02  1.338957e+04   0.000000e+00    0.000000e+00   \n",
       "50%    2.390000e+02  7.487194e+04   1.420800e+04    0.000000e+00   \n",
       "75%    3.350000e+02  2.087215e+05   1.073152e+05    1.442584e+05   \n",
       "max    7.430000e+02  9.244552e+07   5.958504e+07    4.958504e+07   \n",
       "\n",
       "       oldbalanceDest  newbalanceDest       isFraud  isFlaggedFraud  \n",
       "count    6.362620e+06    6.362620e+06  6.362620e+06    6.362620e+06  \n",
       "mean     1.100702e+06    1.224996e+06  1.290820e-03    2.514687e-06  \n",
       "std      3.399180e+06    3.674129e+06  3.590480e-02    1.585775e-03  \n",
       "min      0.000000e+00    0.000000e+00  0.000000e+00    0.000000e+00  \n",
       "25%      0.000000e+00    0.000000e+00  0.000000e+00    0.000000e+00  \n",
       "50%      1.327057e+05    2.146614e+05  0.000000e+00    0.000000e+00  \n",
       "75%      9.430367e+05    1.111909e+06  0.000000e+00    0.000000e+00  \n",
       "max      3.560159e+08    3.561793e+08  1.000000e+00    1.000000e+00  "
      ]
     },
     "execution_count": 5,
     "metadata": {},
     "output_type": "execute_result"
    }
   ],
   "source": [
    "df.describe()"
   ]
  },
  {
   "cell_type": "code",
   "execution_count": 6,
   "id": "f15ce707",
   "metadata": {
    "execution": {
     "iopub.execute_input": "2024-03-31T14:17:41.494032Z",
     "iopub.status.busy": "2024-03-31T14:17:41.493640Z",
     "iopub.status.idle": "2024-03-31T14:17:42.304165Z",
     "shell.execute_reply": "2024-03-31T14:17:42.302894Z"
    },
    "papermill": {
     "duration": 0.822524,
     "end_time": "2024-03-31T14:17:42.307221",
     "exception": false,
     "start_time": "2024-03-31T14:17:41.484697",
     "status": "completed"
    },
    "tags": []
   },
   "outputs": [
    {
     "data": {
      "text/plain": [
       "<Axes: xlabel='isFraud', ylabel='count'>"
      ]
     },
     "execution_count": 6,
     "metadata": {},
     "output_type": "execute_result"
    },
    {
     "data": {
      "image/png": "[encoded data removed]",
      "text/plain": [
       "<Figure size 640x480 with 1 Axes>"
      ]
     },
     "metadata": {},
     "output_type": "display_data"
    }
   ],
   "source": [
    "sns.countplot(data=df,x='isFraud')"
   ]
  },
  {
   "cell_type": "code",
   "execution_count": 7,
   "id": "8b4d9398",
   "metadata": {
    "execution": {
     "iopub.execute_input": "2024-03-31T14:17:42.325520Z",
     "iopub.status.busy": "2024-03-31T14:17:42.325082Z",
     "iopub.status.idle": "2024-03-31T14:19:28.183644Z",
     "shell.execute_reply": "2024-03-31T14:19:28.182479Z"
    },
    "papermill": {
     "duration": 105.87079,
     "end_time": "2024-03-31T14:19:28.186335",
     "exception": false,
     "start_time": "2024-03-31T14:17:42.315545",
     "status": "completed"
    },
    "tags": []
   },
   "outputs": [
    {
     "data": {
      "text/plain": [
       "<Axes: xlabel='type', ylabel='isFraud'>"
      ]
     },
     "execution_count": 7,
     "metadata": {},
     "output_type": "execute_result"
    },
    {
     "data": {
      "image/png": "[encoded data removed]",
      "text/plain": [
       "<Figure size 640x480 with 1 Axes>"
      ]
     },
     "metadata": {},
     "output_type": "display_data"
    }
   ],
   "source": [
    "#To visualize which type has maximum Fraud\n",
    "\n",
    "sns.barplot(data=df, x='type',y='isFraud')"
   ]
  },
  {
   "cell_type": "code",
   "execution_count": 8,
   "id": "5bc4756c",
   "metadata": {
    "execution": {
     "iopub.execute_input": "2024-03-31T14:19:28.206582Z",
     "iopub.status.busy": "2024-03-31T14:19:28.206191Z",
     "iopub.status.idle": "2024-03-31T14:19:28.222848Z",
     "shell.execute_reply": "2024-03-31T14:19:28.221578Z"
    },
    "papermill": {
     "duration": 0.031187,
     "end_time": "2024-03-31T14:19:28.226171",
     "exception": false,
     "start_time": "2024-03-31T14:19:28.194984",
     "status": "completed"
    },
    "tags": []
   },
   "outputs": [
    {
     "name": "stdout",
     "output_type": "stream",
     "text": [
      "<class 'pandas.core.frame.DataFrame'>\n",
      "RangeIndex: 6362620 entries, 0 to 6362619\n",
      "Data columns (total 11 columns):\n",
      " #   Column          Dtype  \n",
      "---  ------          -----  \n",
      " 0   step            int64  \n",
      " 1   type            object \n",
      " 2   amount          float64\n",
      " 3   nameOrig        object \n",
      " 4   oldbalanceOrg   float64\n",
      " 5   newbalanceOrig  float64\n",
      " 6   nameDest        object \n",
      " 7   oldbalanceDest  float64\n",
      " 8   newbalanceDest  float64\n",
      " 9   isFraud         int64  \n",
      " 10  isFlaggedFraud  int64  \n",
      "dtypes: float64(5), int64(3), object(3)\n",
      "memory usage: 534.0+ MB\n"
     ]
    }
   ],
   "source": [
    "df.info()"
   ]
  },
  {
   "cell_type": "code",
   "execution_count": 9,
   "id": "92e28742",
   "metadata": {
    "execution": {
     "iopub.execute_input": "2024-03-31T14:19:28.246097Z",
     "iopub.status.busy": "2024-03-31T14:19:28.245354Z",
     "iopub.status.idle": "2024-03-31T14:19:30.526594Z",
     "shell.execute_reply": "2024-03-31T14:19:30.525393Z"
    },
    "papermill": {
     "duration": 2.294221,
     "end_time": "2024-03-31T14:19:30.529595",
     "exception": false,
     "start_time": "2024-03-31T14:19:28.235374",
     "status": "completed"
    },
    "tags": []
   },
   "outputs": [],
   "source": [
    "#Dropping the column which does not impact the prediction\n",
    "\n",
    "from sklearn.preprocessing import LabelEncoder\n",
    "df = df.drop(['nameOrig','nameDest'],axis=1)\n",
    "\n",
    "le = LabelEncoder()\n",
    "\n",
    "df['type'] = le.fit_transform(df['type'])     #As the type is string, we have converted into numeric"
   ]
  },
  {
   "cell_type": "code",
   "execution_count": 10,
   "id": "3124e868",
   "metadata": {
    "execution": {
     "iopub.execute_input": "2024-03-31T14:19:30.549885Z",
     "iopub.status.busy": "2024-03-31T14:19:30.549506Z",
     "iopub.status.idle": "2024-03-31T14:19:30.698959Z",
     "shell.execute_reply": "2024-03-31T14:19:30.697958Z"
    },
    "papermill": {
     "duration": 0.163119,
     "end_time": "2024-03-31T14:19:30.701729",
     "exception": false,
     "start_time": "2024-03-31T14:19:30.538610",
     "status": "completed"
    },
    "tags": []
   },
   "outputs": [],
   "source": [
    "#Creating our Feature\n",
    "\n",
    "X = df.drop(['isFraud'], axis=1)"
   ]
  },
  {
   "cell_type": "code",
   "execution_count": 11,
   "id": "f69de084",
   "metadata": {
    "execution": {
     "iopub.execute_input": "2024-03-31T14:19:30.721689Z",
     "iopub.status.busy": "2024-03-31T14:19:30.720917Z",
     "iopub.status.idle": "2024-03-31T14:19:30.725257Z",
     "shell.execute_reply": "2024-03-31T14:19:30.724459Z"
    },
    "papermill": {
     "duration": 0.016806,
     "end_time": "2024-03-31T14:19:30.727420",
     "exception": false,
     "start_time": "2024-03-31T14:19:30.710614",
     "status": "completed"
    },
    "tags": []
   },
   "outputs": [],
   "source": [
    "#Creating our Label\n",
    "\n",
    "y = df['isFraud']"
   ]
  },
  {
   "cell_type": "code",
   "execution_count": 12,
   "id": "02b9d951",
   "metadata": {
    "execution": {
     "iopub.execute_input": "2024-03-31T14:19:30.746659Z",
     "iopub.status.busy": "2024-03-31T14:19:30.746263Z",
     "iopub.status.idle": "2024-03-31T14:19:30.862745Z",
     "shell.execute_reply": "2024-03-31T14:19:30.861610Z"
    },
    "papermill": {
     "duration": 0.129264,
     "end_time": "2024-03-31T14:19:30.865463",
     "exception": false,
     "start_time": "2024-03-31T14:19:30.736199",
     "status": "completed"
    },
    "tags": []
   },
   "outputs": [],
   "source": [
    "from sklearn.model_selection import train_test_split"
   ]
  },
  {
   "cell_type": "code",
   "execution_count": 13,
   "id": "c5610c21",
   "metadata": {
    "execution": {
     "iopub.execute_input": "2024-03-31T14:19:30.886057Z",
     "iopub.status.busy": "2024-03-31T14:19:30.884958Z",
     "iopub.status.idle": "2024-03-31T14:19:32.280062Z",
     "shell.execute_reply": "2024-03-31T14:19:32.278608Z"
    },
    "papermill": {
     "duration": 1.408292,
     "end_time": "2024-03-31T14:19:32.282911",
     "exception": false,
     "start_time": "2024-03-31T14:19:30.874619",
     "status": "completed"
    },
    "tags": []
   },
   "outputs": [],
   "source": [
    "#Splitting the data as per train and test\n",
    "\n",
    "X_train, X_test, y_train, y_test = train_test_split(X, y, test_size=0.2, random_state=42)"
   ]
  },
  {
   "cell_type": "code",
   "execution_count": 14,
   "id": "71a78502",
   "metadata": {
    "execution": {
     "iopub.execute_input": "2024-03-31T14:19:32.302505Z",
     "iopub.status.busy": "2024-03-31T14:19:32.302052Z",
     "iopub.status.idle": "2024-03-31T14:19:32.402245Z",
     "shell.execute_reply": "2024-03-31T14:19:32.401102Z"
    },
    "papermill": {
     "duration": 0.112961,
     "end_time": "2024-03-31T14:19:32.404804",
     "exception": false,
     "start_time": "2024-03-31T14:19:32.291843",
     "status": "completed"
    },
    "tags": []
   },
   "outputs": [],
   "source": [
    "from sklearn.linear_model import LogisticRegression"
   ]
  },
  {
   "cell_type": "code",
   "execution_count": 15,
   "id": "80413bc1",
   "metadata": {
    "execution": {
     "iopub.execute_input": "2024-03-31T14:19:32.423872Z",
     "iopub.status.busy": "2024-03-31T14:19:32.423443Z",
     "iopub.status.idle": "2024-03-31T14:19:32.428643Z",
     "shell.execute_reply": "2024-03-31T14:19:32.427497Z"
    },
    "papermill": {
     "duration": 0.01749,
     "end_time": "2024-03-31T14:19:32.431025",
     "exception": false,
     "start_time": "2024-03-31T14:19:32.413535",
     "status": "completed"
    },
    "tags": []
   },
   "outputs": [],
   "source": [
    "#Creating the object of Logistic Regression Model\n",
    "\n",
    "log_model = LogisticRegression()"
   ]
  },
  {
   "cell_type": "code",
   "execution_count": 16,
   "id": "ee0943e3",
   "metadata": {
    "execution": {
     "iopub.execute_input": "2024-03-31T14:19:32.450530Z",
     "iopub.status.busy": "2024-03-31T14:19:32.449893Z",
     "iopub.status.idle": "2024-03-31T14:20:02.800431Z",
     "shell.execute_reply": "2024-03-31T14:20:02.799208Z"
    },
    "papermill": {
     "duration": 30.383608,
     "end_time": "2024-03-31T14:20:02.823164",
     "exception": false,
     "start_time": "2024-03-31T14:19:32.439556",
     "status": "completed"
    },
    "tags": []
   },
   "outputs": [
    {
     "data": {
      "text/html": [
       "<style>#sk-container-id-1 {color: black;background-color: white;}#sk-container-id-1 pre{padding: 0;}#sk-container-id-1 div.sk-toggleable {background-color: white;}#sk-container-id-1 label.sk-toggleable__label {cursor: pointer;display: block;width: 100%;margin-bottom: 0;padding: 0.3em;box-sizing: border-box;text-align: center;}#sk-container-id-1 label.sk-toggleable__label-arrow:before {content: \"▸\";float: left;margin-right: 0.25em;color: #696969;}#sk-container-id-1 label.sk-toggleable__label-arrow:hover:before {color: black;}#sk-container-id-1 div.sk-estimator:hover label.sk-toggleable__label-arrow:before {color: black;}#sk-container-id-1 div.sk-toggleable__content {max-height: 0;max-width: 0;overflow: hidden;text-align: left;background-color: #f0f8ff;}#sk-container-id-1 div.sk-toggleable__content pre {margin: 0.2em;color: black;border-radius: 0.25em;background-color: #f0f8ff;}#sk-container-id-1 input.sk-toggleable__control:checked~div.sk-toggleable__content {max-height: 200px;max-width: 100%;overflow: auto;}#sk-container-id-1 input.sk-toggleable__control:checked~label.sk-toggleable__label-arrow:before {content: \"▾\";}#sk-container-id-1 div.sk-estimator input.sk-toggleable__control:checked~label.sk-toggleable__label {background-color: #d4ebff;}#sk-container-id-1 div.sk-label input.sk-toggleable__control:checked~label.sk-toggleable__label {background-color: #d4ebff;}#sk-container-id-1 input.sk-hidden--visually {border: 0;clip: rect(1px 1px 1px 1px);clip: rect(1px, 1px, 1px, 1px);height: 1px;margin: -1px;overflow: hidden;padding: 0;position: absolute;width: 1px;}#sk-container-id-1 div.sk-estimator {font-family: monospace;background-color: #f0f8ff;border: 1px dotted black;border-radius: 0.25em;box-sizing: border-box;margin-bottom: 0.5em;}#sk-container-id-1 div.sk-estimator:hover {background-color: #d4ebff;}#sk-container-id-1 div.sk-parallel-item::after {content: \"\";width: 100%;border-bottom: 1px solid gray;flex-grow: 1;}#sk-container-id-1 div.sk-label:hover label.sk-toggleable__label {background-color: #d4ebff;}#sk-container-id-1 div.sk-serial::before {content: \"\";position: absolute;border-left: 1px solid gray;box-sizing: border-box;top: 0;bottom: 0;left: 50%;z-index: 0;}#sk-container-id-1 div.sk-serial {display: flex;flex-direction: column;align-items: center;background-color: white;padding-right: 0.2em;padding-left: 0.2em;position: relative;}#sk-container-id-1 div.sk-item {position: relative;z-index: 1;}#sk-container-id-1 div.sk-parallel {display: flex;align-items: stretch;justify-content: center;background-color: white;position: relative;}#sk-container-id-1 div.sk-item::before, #sk-container-id-1 div.sk-parallel-item::before {content: \"\";position: absolute;border-left: 1px solid gray;box-sizing: border-box;top: 0;bottom: 0;left: 50%;z-index: -1;}#sk-container-id-1 div.sk-parallel-item {display: flex;flex-direction: column;z-index: 1;position: relative;background-color: white;}#sk-container-id-1 div.sk-parallel-item:first-child::after {align-self: flex-end;width: 50%;}#sk-container-id-1 div.sk-parallel-item:last-child::after {align-self: flex-start;width: 50%;}#sk-container-id-1 div.sk-parallel-item:only-child::after {width: 0;}#sk-container-id-1 div.sk-dashed-wrapped {border: 1px dashed gray;margin: 0 0.4em 0.5em 0.4em;box-sizing: border-box;padding-bottom: 0.4em;background-color: white;}#sk-container-id-1 div.sk-label label {font-family: monospace;font-weight: bold;display: inline-block;line-height: 1.2em;}#sk-container-id-1 div.sk-label-container {text-align: center;}#sk-container-id-1 div.sk-container {/* jupyter's `normalize.less` sets `[hidden] { display: none; }` but bootstrap.min.css set `[hidden] { display: none !important; }` so we also need the `!important` here to be able to override the default hidden behavior on the sphinx rendered scikit-learn.org. See: https://github.com/scikit-learn/scikit-learn/issues/21755 */display: inline-block !important;position: relative;}#sk-container-id-1 div.sk-text-repr-fallback {display: none;}</style><div id=\"sk-container-id-1\" class=\"sk-top-container\"><div class=\"sk-text-repr-fallback\"><pre>LogisticRegression()</pre><b>In a Jupyter environment, please rerun this cell to show the HTML representation or trust the notebook. <br />On GitHub, the HTML representation is unable to render, please try loading this page with nbviewer.org.</b></div><div class=\"sk-container\" hidden><div class=\"sk-item\"><div class=\"sk-estimator sk-toggleable\"><input class=\"sk-toggleable__control sk-hidden--visually\" id=\"sk-estimator-id-1\" type=\"checkbox\" checked><label for=\"sk-estimator-id-1\" class=\"sk-toggleable__label sk-toggleable__label-arrow\">LogisticRegression</label><div class=\"sk-toggleable__content\"><pre>LogisticRegression()</pre></div></div></div></div></div>"
      ],
      "text/plain": [
       "LogisticRegression()"
      ]
     },
     "execution_count": 16,
     "metadata": {},
     "output_type": "execute_result"
    }
   ],
   "source": [
    "#Fitting the model with training dataset\n",
    "\n",
    "log_model.fit(X_train,y_train)"
   ]
  },
  {
   "cell_type": "code",
   "execution_count": 17,
   "id": "170ed80a",
   "metadata": {
    "execution": {
     "iopub.execute_input": "2024-03-31T14:20:02.863877Z",
     "iopub.status.busy": "2024-03-31T14:20:02.863190Z",
     "iopub.status.idle": "2024-03-31T14:20:02.945909Z",
     "shell.execute_reply": "2024-03-31T14:20:02.944318Z"
    },
    "papermill": {
     "duration": 0.107793,
     "end_time": "2024-03-31T14:20:02.950174",
     "exception": false,
     "start_time": "2024-03-31T14:20:02.842381",
     "status": "completed"
    },
    "tags": []
   },
   "outputs": [],
   "source": [
    "#Determining the prediction\n",
    "\n",
    "y_pred = log_model.predict(X_test)"
   ]
  },
  {
   "cell_type": "code",
   "execution_count": 18,
   "id": "35640c44",
   "metadata": {
    "execution": {
     "iopub.execute_input": "2024-03-31T14:20:02.990692Z",
     "iopub.status.busy": "2024-03-31T14:20:02.989975Z",
     "iopub.status.idle": "2024-03-31T14:20:02.996772Z",
     "shell.execute_reply": "2024-03-31T14:20:02.995629Z"
    },
    "papermill": {
     "duration": 0.031227,
     "end_time": "2024-03-31T14:20:03.000328",
     "exception": false,
     "start_time": "2024-03-31T14:20:02.969101",
     "status": "completed"
    },
    "tags": []
   },
   "outputs": [],
   "source": [
    "from sklearn.metrics import accuracy_score, precision_recall_curve"
   ]
  },
  {
   "cell_type": "code",
   "execution_count": 19,
   "id": "dcd1f99c",
   "metadata": {
    "execution": {
     "iopub.execute_input": "2024-03-31T14:20:03.043245Z",
     "iopub.status.busy": "2024-03-31T14:20:03.042562Z",
     "iopub.status.idle": "2024-03-31T14:20:03.172913Z",
     "shell.execute_reply": "2024-03-31T14:20:03.171905Z"
    },
    "papermill": {
     "duration": 0.154258,
     "end_time": "2024-03-31T14:20:03.175570",
     "exception": false,
     "start_time": "2024-03-31T14:20:03.021312",
     "status": "completed"
    },
    "tags": []
   },
   "outputs": [
    {
     "data": {
      "text/plain": [
       "0.9983128019589415"
      ]
     },
     "execution_count": 19,
     "metadata": {},
     "output_type": "execute_result"
    }
   ],
   "source": [
    "#Determining the accuracy of the model for positive values with accuracy_score\n",
    "\n",
    "accuracy_score(y_pred,y_test)"
   ]
  }
 ],
 "metadata": {
  "kaggle": {
   "accelerator": "none",
   "dataSources": [
    {
     "datasetId": 4557717,
     "sourceId": 7786909,
     "sourceType": "datasetVersion"
    }
   ],
   "dockerImageVersionId": 30673,
   "isGpuEnabled": false,
   "isInternetEnabled": false,
   "language": "python",
   "sourceType": "notebook"
  },
  "kernelspec": {
   "display_name": "Python 3",
   "language": "python",
   "name": "python3"
  },
  "language_info": {
   "codemirror_mode": {
    "name": "ipython",
    "version": 3
   },
   "file_extension": ".py",
   "mimetype": "text/x-python",
   "name": "python",
   "nbconvert_exporter": "python",
   "pygments_lexer": "ipython3",
   "version": "3.10.13"
  },
  "papermill": {
   "default_parameters": {},
   "duration": 175.331124,
   "end_time": "2024-03-31T14:20:04.308997",
   "environment_variables": {},
   "exception": null,
   "input_path": "__notebook__.ipynb",
   "output_path": "__notebook__.ipynb",
   "parameters": {},
   "start_time": "2024-03-31T14:17:08.977873",
   "version": "2.5.0"
  }
 },
 "nbformat": 4,
 "nbformat_minor": 5
}
